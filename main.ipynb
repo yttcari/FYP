{
 "cells": [
  {
   "cell_type": "code",
   "execution_count": null,
   "id": "c0db214a",
   "metadata": {},
   "outputs": [
    {
     "name": "stdout",
     "output_type": "stream",
     "text": [
      "The autoreload extension is already loaded. To reload it, use:\n",
      "  %reload_ext autoreload\n"
     ]
    }
   ],
   "source": [
    "%load_ext autoreload\n",
    "%autoreload 2\n",
    "from tqdm import tqdm\n",
    "import numpy as np\n",
    "import matplotlib.pyplot as plt\n",
    "from rk4 import rk4\n",
    "from wd_setup import WhiteDwarf"
   ]
  },
  {
   "cell_type": "code",
   "execution_count": 27,
   "id": "50959418",
   "metadata": {},
   "outputs": [],
   "source": [
    "M_SOLAR = 6.95e33"
   ]
  },
  {
   "cell_type": "code",
   "execution_count": null,
   "id": "4d132d8c",
   "metadata": {},
   "outputs": [
    {
     "name": "stdout",
     "output_type": "stream",
     "text": [
      "The autoreload extension is already loaded. To reload it, use:\n",
      "  %reload_ext autoreload\n"
     ]
    }
   ],
   "source": [
    "rhoc_scaled = 1e6\n",
    "Ye = 1\n",
    "\n",
    "wd1 = WhiteDwarf(Ye=Ye, rhoc_scaled=rhoc_scaled)\n",
    "\n",
    "# Initial conditions\n",
    "r = 1e-10  \n",
    "state = np.array([rhoc_scaled, 0]) # [density, mass]\n",
    "dr = 0.001\n",
    "\n",
    "R_history = []\n",
    "M_history = []\n",
    "rho_history = []\n",
    "\n",
    "while state[0] > 0 and r < 2.0:\n",
    "    R_history.append(r)\n",
    "    rho_history.append(state[0])\n",
    "    M_history.append(state[1])\n",
    "    \n",
    "    state = rk4(wd1.get_derivative, dr=dr, rb=r, state=state)\n",
    "    \n",
    "    r += dr\n",
    "\n",
    "R_history = np.array(R_history)\n",
    "M_history = np.array(M_history)\n",
    "rho_history = np.array(rho_history)"
   ]
  },
  {
   "cell_type": "code",
   "execution_count": null,
   "id": "141569f8",
   "metadata": {},
   "outputs": [
    {
     "name": "stderr",
     "output_type": "stream",
     "text": [
      "100%|██████████| 10/10 [00:00<00:00, 36.08it/s]\n"
     ]
    },
    {
     "data": {
      "text/plain": [
       "<matplotlib.collections.PathCollection at 0x11ec6de80>"
      ]
     },
     "execution_count": 40,
     "metadata": {},
     "output_type": "execute_result"
    },
    {
     "data": {
      "image/png": "[encoded data removed]",
      "text/plain": [
       "<Figure size 640x480 with 1 Axes>"
      ]
     },
     "metadata": {},
     "output_type": "display_data"
    }
   ],
   "source": [
    "M = []\n",
    "R = []\n",
    "\n",
    "rhoc_scaled = np.logspace(-1, 1, 10)\n",
    "for rhoc in tqdm(rhoc_scaled):\n",
    "\n",
    "    wd1 = WhiteDwarf(Ye=Ye, rhoc_scaled=rhoc_scaled)\n",
    "\n",
    "    # Initial conditions\n",
    "    r = 1e-10  \n",
    "    state = np.array([rhoc, 0]) # [density, mass]\n",
    "\n",
    "    while state[0] > 0 and r < 2.0:\n",
    "        state = rk4(wd1.get_derivative, dr=dr, rb=r, state=state)\n",
    "        \n",
    "        r += dr\n",
    "\n",
    "    R.append(r)\n",
    "    M.append(state[1])\n",
    "\n",
    "R = np.array(R)\n",
    "M = np.array(M)\n",
    "\n",
    "plt.scatter(R * wd1.R0 / 1000, M * wd1.M0 / M_SOLAR)"
   ]
  }
 ],
 "metadata": {
  "kernelspec": {
   "display_name": "Python 3",
   "language": "python",
   "name": "python3"
  },
  "language_info": {
   "codemirror_mode": {
    "name": "ipython",
    "version": 3
   },
   "file_extension": ".py",
   "mimetype": "text/x-python",
   "name": "python",
   "nbconvert_exporter": "python",
   "pygments_lexer": "ipython3",
   "version": "3.9.6"
  }
 },
 "nbformat": 4,
 "nbformat_minor": 5
}
